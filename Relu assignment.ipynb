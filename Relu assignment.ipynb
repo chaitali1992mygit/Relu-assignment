{
 "cells": [
  {
   "cell_type": "code",
   "execution_count": null,
   "metadata": {},
   "outputs": [],
   "source": []
  },
  {
   "cell_type": "code",
   "execution_count": 497,
   "metadata": {},
   "outputs": [
    {
     "name": "stdout",
     "output_type": "stream",
     "text": [
      "Requirement already satisfied: selenium in c:\\users\\chaitali nakade\\anaconda3\\lib\\site-packages (3.141.0)\n",
      "Requirement already satisfied: urllib3 in c:\\users\\chaitali nakade\\anaconda3\\lib\\site-packages (from selenium) (1.25.11)\n"
     ]
    }
   ],
   "source": [
    "#install selenium\n",
    "!pip install selenium"
   ]
  },
  {
   "cell_type": "code",
   "execution_count": 498,
   "metadata": {},
   "outputs": [],
   "source": [
    "# Importing Libraries\n",
    "import selenium\n",
    "import pandas as pd\n",
    "import time\n",
    "from bs4 import BeautifulSoup\n",
    "\n",
    "# Importing selenium webdriver \n",
    "from selenium import webdriver\n",
    "\n",
    "# Importing required Exceptions which needs to handled\n",
    "from selenium.common.exceptions import StaleElementReferenceException, NoSuchElementException\n",
    "\n",
    "#Importing requests\n",
    "import requests\n",
    "\n",
    "# Importing regex\n",
    "import re"
   ]
  },
  {
   "cell_type": "code",
   "execution_count": 499,
   "metadata": {},
   "outputs": [],
   "source": [
    "#Import libreries \n",
    "\n",
    "import pandas as pd #Data processing\n",
    "import numpy as np #Linear algebra\n",
    "\n",
    "import warnings\n",
    "warnings.filterwarnings(\"ignore\")"
   ]
  },
  {
   "cell_type": "code",
   "execution_count": 500,
   "metadata": {},
   "outputs": [
    {
     "data": {
      "text/html": [
       "<div>\n",
       "<style scoped>\n",
       "    .dataframe tbody tr th:only-of-type {\n",
       "        vertical-align: middle;\n",
       "    }\n",
       "\n",
       "    .dataframe tbody tr th {\n",
       "        vertical-align: top;\n",
       "    }\n",
       "\n",
       "    .dataframe thead th {\n",
       "        text-align: right;\n",
       "    }\n",
       "</style>\n",
       "<table border=\"1\" class=\"dataframe\">\n",
       "  <thead>\n",
       "    <tr style=\"text-align: right;\">\n",
       "      <th></th>\n",
       "      <th>Unnamed: 0</th>\n",
       "      <th>id</th>\n",
       "      <th>Asin</th>\n",
       "      <th>country</th>\n",
       "      <th>URL</th>\n",
       "      <th>Working URLs</th>\n",
       "    </tr>\n",
       "  </thead>\n",
       "  <tbody>\n",
       "    <tr>\n",
       "      <th>0</th>\n",
       "      <td>0</td>\n",
       "      <td>1</td>\n",
       "      <td>1015</td>\n",
       "      <td>de</td>\n",
       "      <td>https://www.amazon.de/dp/1015</td>\n",
       "      <td>https://www.amazon.de/dp/000004458X</td>\n",
       "    </tr>\n",
       "    <tr>\n",
       "      <th>1</th>\n",
       "      <td>1</td>\n",
       "      <td>2424796</td>\n",
       "      <td>1015</td>\n",
       "      <td>fr</td>\n",
       "      <td>https://www.amazon.fr/dp/1015</td>\n",
       "      <td>https://www.amazon.fr/dp/000004458X</td>\n",
       "    </tr>\n",
       "    <tr>\n",
       "      <th>2</th>\n",
       "      <td>2</td>\n",
       "      <td>2</td>\n",
       "      <td>000004458X</td>\n",
       "      <td>de</td>\n",
       "      <td>https://www.amazon.de/dp/000004458X</td>\n",
       "      <td>https://www.amazon.de/dp/000101742X</td>\n",
       "    </tr>\n",
       "    <tr>\n",
       "      <th>3</th>\n",
       "      <td>3</td>\n",
       "      <td>2424797</td>\n",
       "      <td>000004458X</td>\n",
       "      <td>fr</td>\n",
       "      <td>https://www.amazon.fr/dp/000004458X</td>\n",
       "      <td>https://www.amazon.fr/dp/000101742X</td>\n",
       "    </tr>\n",
       "    <tr>\n",
       "      <th>4</th>\n",
       "      <td>4</td>\n",
       "      <td>3</td>\n",
       "      <td>1002198</td>\n",
       "      <td>de</td>\n",
       "      <td>https://www.amazon.de/dp/1002198</td>\n",
       "      <td>https://www.amazon.de/dp/000102163X</td>\n",
       "    </tr>\n",
       "  </tbody>\n",
       "</table>\n",
       "</div>"
      ],
      "text/plain": [
       "   Unnamed: 0       id        Asin country  \\\n",
       "0           0        1        1015      de   \n",
       "1           1  2424796        1015      fr   \n",
       "2           2        2  000004458X      de   \n",
       "3           3  2424797  000004458X      fr   \n",
       "4           4        3     1002198      de   \n",
       "\n",
       "                                   URL                         Working URLs  \n",
       "0        https://www.amazon.de/dp/1015  https://www.amazon.de/dp/000004458X  \n",
       "1        https://www.amazon.fr/dp/1015  https://www.amazon.fr/dp/000004458X  \n",
       "2  https://www.amazon.de/dp/000004458X  https://www.amazon.de/dp/000101742X  \n",
       "3  https://www.amazon.fr/dp/000004458X  https://www.amazon.fr/dp/000101742X  \n",
       "4     https://www.amazon.de/dp/1002198  https://www.amazon.de/dp/000102163X  "
      ]
     },
     "execution_count": 500,
     "metadata": {},
     "output_type": "execute_result"
    }
   ],
   "source": [
    "#Import the parameters\n",
    "\n",
    "data= pd.read_excel(r\"C:\\Users\\Chaitali Nakade\\Downloads\\Amazon Scraping.xlsx\")\n",
    "data.head()"
   ]
  },
  {
   "cell_type": "code",
   "execution_count": 501,
   "metadata": {},
   "outputs": [],
   "source": [
    "#connect to the web driver\n",
    "web_driver = webdriver.Edge(\"msedgedriver.exe\")"
   ]
  },
  {
   "cell_type": "code",
   "execution_count": 502,
   "metadata": {},
   "outputs": [
    {
     "name": "stdout",
     "output_type": "stream",
     "text": [
      "URL is not available\n"
     ]
    }
   ],
   "source": [
    "#Get url in web driver first\n",
    "url = 'https://www.amazon.de/dp/1015'\n",
    "web_driver.get(url)\n",
    "#the url will open\n",
    "\n",
    "print(\"URL is not available\")"
   ]
  },
  {
   "cell_type": "code",
   "execution_count": 503,
   "metadata": {},
   "outputs": [
    {
     "name": "stdout",
     "output_type": "stream",
     "text": [
      "URL is not available\n"
     ]
    }
   ],
   "source": [
    "#Get url in web driver first\n",
    "url = 'https://www.amazon.fr/dp/1015'\n",
    "web_driver.get(url)\n",
    "#the url will open\n",
    "\n",
    "print(\"URL is not available\")"
   ]
  },
  {
   "cell_type": "code",
   "execution_count": 504,
   "metadata": {},
   "outputs": [],
   "source": [
    "#Get url in web driver first\n",
    "url = 'https://www.amazon.de/dp/000004458X'\n",
    "web_driver.get(url)\n",
    "#the url will open"
   ]
  },
  {
   "cell_type": "code",
   "execution_count": 505,
   "metadata": {},
   "outputs": [],
   "source": [
    "Cookie_button = web_driver.find_element_by_xpath(\"//span[@class='a-button a-button-primary']\")\n",
    "Cookie_button.click()"
   ]
  },
  {
   "cell_type": "code",
   "execution_count": 506,
   "metadata": {},
   "outputs": [],
   "source": [
    "#extract the tag having Product_name\n",
    "Product_name1 = web_driver.find_elements_by_xpath(\"//h1[@class='a-size-large a-spacing-none']\")\n",
    "#to remove extra data other than output we required\n",
    "Product_name = [] #empty list\n",
    "for i in Product_name1:\n",
    "    Product_name.append(i.text)\n",
    "    \n",
    "    \n",
    "#extract the Image Url\n",
    "url = web_driver.find_elements_by_xpath(\"//img[@class='a-dynamic-image a-stretch-horizontal']\")\n",
    "Image_url = [] #empty list\n",
    "#to remove extra data other than output we required\n",
    "for i in url:\n",
    "    Image_url.append(i.get_attribute('src'))\n",
    "\n",
    "    \n",
    "#extract the tag having Price\n",
    "price = web_driver.find_elements_by_xpath(\"//span[@class='a-price aok-align-center reinventPricePriceToPayMargin priceToPay']\")\n",
    "#to remove extra data other than output we required\n",
    "Price = [] #empty list\n",
    "for i in price:\n",
    "    Price.append(i.text.replace('\\n', '.'))\n",
    "\n",
    "\n",
    "#extract the tag having Product details\n",
    "detail = web_driver.find_elements_by_xpath(\"//table[@class='a-normal a-spacing-micro']\")\n",
    "#to remove extra data other than output we required\n",
    "Product_detail = [] #empty list\n",
    "for i in detail:\n",
    "    Product_detail.append(i.text.replace('\\n', ', '))"
   ]
  },
  {
   "cell_type": "code",
   "execution_count": 507,
   "metadata": {},
   "outputs": [
    {
     "name": "stdout",
     "output_type": "stream",
     "text": [
      "URL is not available\n"
     ]
    }
   ],
   "source": [
    "#Get url in web driver first\n",
    "url = 'https://www.amazon.fr/dp/000004458X'\n",
    "web_driver.get(url)\n",
    "#the url will open\n",
    "\n",
    "print(\"URL is not available\")"
   ]
  },
  {
   "cell_type": "code",
   "execution_count": 508,
   "metadata": {},
   "outputs": [
    {
     "name": "stdout",
     "output_type": "stream",
     "text": [
      "URL is not available\n"
     ]
    }
   ],
   "source": [
    "#Get url in web driver first\n",
    "url = 'https://www.amazon.de/dp/1002198'\n",
    "web_driver.get(url)\n",
    "#the url will open\n",
    "\n",
    "print(\"URL is not available\")"
   ]
  },
  {
   "cell_type": "code",
   "execution_count": 509,
   "metadata": {},
   "outputs": [
    {
     "name": "stdout",
     "output_type": "stream",
     "text": [
      "URL is not available\n"
     ]
    }
   ],
   "source": [
    "#Get url in web driver first\n",
    "url = 'https://www.amazon.fr/dp/1002198'\n",
    "web_driver.get(url)\n",
    "#the url will open\n",
    "\n",
    "print(\"URL is not available\")"
   ]
  },
  {
   "cell_type": "code",
   "execution_count": 510,
   "metadata": {},
   "outputs": [
    {
     "name": "stdout",
     "output_type": "stream",
     "text": [
      "URL is not available\n"
     ]
    }
   ],
   "source": [
    "#Get url in web driver first\n",
    "url = 'https://www.amazon.fr/dp/1002791'\n",
    "web_driver.get(url)\n",
    "#the url will open\n",
    "\n",
    "print(\"URL is not available\")"
   ]
  },
  {
   "cell_type": "code",
   "execution_count": 511,
   "metadata": {},
   "outputs": [
    {
     "name": "stdout",
     "output_type": "stream",
     "text": [
      "URL is not available\n"
     ]
    }
   ],
   "source": [
    "#Get url in web driver first\n",
    "url = 'https://www.amazon.it/dp/1002791'\n",
    "web_driver.get(url)\n",
    "#the url will open\n",
    "\n",
    "print(\"URL is not available\")"
   ]
  },
  {
   "cell_type": "code",
   "execution_count": 512,
   "metadata": {},
   "outputs": [
    {
     "name": "stdout",
     "output_type": "stream",
     "text": [
      "URL is not available\n"
     ]
    }
   ],
   "source": [
    "#Get url in web driver first\n",
    "url = 'https://www.amazon.de/dp/1002864'\n",
    "web_driver.get(url)\n",
    "#the url will open\n",
    "\n",
    "print(\"URL is not available\")"
   ]
  },
  {
   "cell_type": "code",
   "execution_count": 513,
   "metadata": {},
   "outputs": [
    {
     "name": "stdout",
     "output_type": "stream",
     "text": [
      "URL is not available\n"
     ]
    }
   ],
   "source": [
    "#Get url in web driver first\n",
    "url = 'https://www.amazon.fr/dp/1002864'\n",
    "web_driver.get(url)\n",
    "#the url will open\n",
    "\n",
    "print(\"URL is not available\")"
   ]
  },
  {
   "cell_type": "code",
   "execution_count": 514,
   "metadata": {},
   "outputs": [
    {
     "name": "stdout",
     "output_type": "stream",
     "text": [
      "URL is not available\n"
     ]
    }
   ],
   "source": [
    "#Get url in web driver first\n",
    "url = 'https://www.amazon.de/dp/1003704'\n",
    "web_driver.get(url)\n",
    "#the url will open\n",
    "\n",
    "print(\"URL is not available\")"
   ]
  },
  {
   "cell_type": "code",
   "execution_count": 515,
   "metadata": {},
   "outputs": [
    {
     "name": "stdout",
     "output_type": "stream",
     "text": [
      "URL is not available\n"
     ]
    }
   ],
   "source": [
    "#Get url in web driver first\n",
    "url = 'https://www.amazon.fr/dp/1003704'\n",
    "web_driver.get(url)\n",
    "#the url will open\n",
    "\n",
    "print(\"URL is not available\")"
   ]
  },
  {
   "cell_type": "code",
   "execution_count": 516,
   "metadata": {},
   "outputs": [
    {
     "name": "stdout",
     "output_type": "stream",
     "text": [
      "URL is not available\n"
     ]
    }
   ],
   "source": [
    "#Get url in web driver first\n",
    "url = 'https://www.amazon.de/dp/1003763'\n",
    "web_driver.get(url)\n",
    "#the url will open\n",
    "\n",
    "print(\"URL is not available\")"
   ]
  },
  {
   "cell_type": "code",
   "execution_count": 517,
   "metadata": {},
   "outputs": [
    {
     "name": "stdout",
     "output_type": "stream",
     "text": [
      "URL is not available\n"
     ]
    }
   ],
   "source": [
    "#Get url in web driver first\n",
    "url = 'https://www.amazon.fr/dp/1003763'\n",
    "web_driver.get(url)\n",
    "#the url will open\n",
    "\n",
    "print(\"URL is not available\")"
   ]
  },
  {
   "cell_type": "code",
   "execution_count": 518,
   "metadata": {},
   "outputs": [
    {
     "name": "stdout",
     "output_type": "stream",
     "text": [
      "URL is not available\n"
     ]
    }
   ],
   "source": [
    "#Get url in web driver first\n",
    "url = 'https://www.amazon.fr/dp/1004271'\n",
    "web_driver.get(url)\n",
    "#the url will open\n",
    "\n",
    "print(\"URL is not available\")"
   ]
  },
  {
   "cell_type": "code",
   "execution_count": 519,
   "metadata": {},
   "outputs": [
    {
     "name": "stdout",
     "output_type": "stream",
     "text": [
      "URL is not available\n"
     ]
    }
   ],
   "source": [
    "#Get url in web driver first\n",
    "url = 'https://www.amazon.it/dp/1004271'\n",
    "web_driver.get(url)\n",
    "#the url will open\n",
    "\n",
    "print(\"URL is not available\")"
   ]
  },
  {
   "cell_type": "code",
   "execution_count": 520,
   "metadata": {},
   "outputs": [],
   "source": [
    "#Get url in web driver first\n",
    "url = 'https://www.amazon.de/dp/000101742X'\n",
    "web_driver.get(url)\n",
    "#the url will open"
   ]
  },
  {
   "cell_type": "code",
   "execution_count": 521,
   "metadata": {},
   "outputs": [],
   "source": [
    "#extract the tag having Product_name\n",
    "Product_name1 = web_driver.find_elements_by_xpath(\"//h1[@class='a-spacing-none a-text-normal']\")\n",
    "#to remove extra data other than output we required\n",
    "for i in Product_name1:\n",
    "    Product_name.append(i.text)\n",
    "    \n",
    "    \n",
    "#extract the Image Url\n",
    "url = web_driver.find_elements_by_xpath(\"//img[@class='a-dynamic-image image-stretch-horizontal frontImage']\")\n",
    "#to remove extra data other than output we required\n",
    "for i in url:\n",
    "    Image_url.append(i.get_attribute('src'))\n",
    "\n",
    "    \n",
    "#extract the tag having Price\n",
    "price = web_driver.find_elements_by_xpath(\"//span[@class='a-color-base']\")\n",
    "#to remove extra data other than output we required\n",
    "for i in price:\n",
    "    Price.append(i.text)\n",
    "\n",
    "\n",
    "#extract the tag having Product details\n",
    "detail = web_driver.find_elements_by_xpath(\"//div[@class='a-section feature detail-bullets-wrapper bucket']\")\n",
    "#to remove extra data other than output we required\n",
    "for i in detail:\n",
    "    Product_detail.append(i.text.replace('\\n', ' '))"
   ]
  },
  {
   "cell_type": "code",
   "execution_count": 522,
   "metadata": {},
   "outputs": [],
   "source": [
    "#Get url in web driver first\n",
    "url = 'https://www.amazon.fr/dp/000101742X'\n",
    "web_driver.get(url)\n",
    "#the url will open"
   ]
  },
  {
   "cell_type": "code",
   "execution_count": 523,
   "metadata": {},
   "outputs": [],
   "source": [
    "Cookie_button = web_driver.find_element_by_xpath(\"//span[@class='a-button a-button-primary']\")\n",
    "Cookie_button.click()"
   ]
  },
  {
   "cell_type": "code",
   "execution_count": 524,
   "metadata": {},
   "outputs": [],
   "source": [
    "#extract the tag having Product_name\n",
    "Product_name1 = web_driver.find_elements_by_xpath(\"//h1[@class='a-spacing-none a-text-normal']\")\n",
    "#to remove extra data other than output we required\n",
    "for i in Product_name1:\n",
    "    Product_name.append(i.text)\n",
    "    \n",
    "    \n",
    "#extract the Image Url\n",
    "url = web_driver.find_elements_by_xpath(\"//img[@class='a-dynamic-image image-stretch-horizontal frontImage']\")\n",
    "#to remove extra data other than output we required\n",
    "for i in url:\n",
    "    Image_url.append(i.get_attribute('src'))\n",
    "\n",
    "    \n",
    "#extract the tag having Price\n",
    "price = web_driver.find_elements_by_xpath(\"//span[@class='a-color-base']\")\n",
    "#to remove extra data other than output we required\n",
    "for i in price:\n",
    "    Price.append(i.text)\n",
    "\n",
    "\n",
    "#extract the tag having Product details\n",
    "detail = web_driver.find_elements_by_xpath(\"//div[@class='a-section feature detail-bullets-wrapper bucket']\")\n",
    "#to remove extra data other than output we required\n",
    "for i in detail:\n",
    "    Product_detail.append(i.text.replace('\\n', ' '))"
   ]
  },
  {
   "cell_type": "code",
   "execution_count": 525,
   "metadata": {},
   "outputs": [
    {
     "name": "stdout",
     "output_type": "stream",
     "text": [
      "URL is not available\n"
     ]
    }
   ],
   "source": [
    "#Get url in web driver first\n",
    "url = 'https://www.amazon.de/dp/1017519'\n",
    "web_driver.get(url)\n",
    "#the url will open\n",
    "\n",
    "print(\"URL is not available\")"
   ]
  },
  {
   "cell_type": "code",
   "execution_count": 526,
   "metadata": {},
   "outputs": [
    {
     "name": "stdout",
     "output_type": "stream",
     "text": [
      "URL is not available\n"
     ]
    }
   ],
   "source": [
    "#Get url in web driver first\n",
    "url = 'https://www.amazon.fr/dp/1017519'\n",
    "web_driver.get(url)\n",
    "#the url will open\n",
    "\n",
    "print(\"URL is not available\")"
   ]
  },
  {
   "cell_type": "code",
   "execution_count": 527,
   "metadata": {},
   "outputs": [],
   "source": [
    "#Get url in web driver first\n",
    "url = 'https://www.amazon.de/dp/000102163X'\n",
    "web_driver.get(url)\n",
    "#the url will open"
   ]
  },
  {
   "cell_type": "code",
   "execution_count": 528,
   "metadata": {},
   "outputs": [],
   "source": [
    "#extract the tag having Product_name\n",
    "Product_name1 = web_driver.find_elements_by_xpath(\"//h1[@class='a-spacing-none a-text-normal']\")\n",
    "#to remove extra data other than output we required\n",
    "for i in Product_name1:\n",
    "    Product_name.append(i.text)\n",
    "    \n",
    "    \n",
    "#extract the Image Url\n",
    "url = web_driver.find_elements_by_xpath(\"//img[@class='a-dynamic-image image-stretch-horizontal frontImage']\")\n",
    "#to remove extra data other than output we required\n",
    "for i in url:\n",
    "    Image_url.append(i.get_attribute('src'))\n",
    "\n",
    "    \n",
    "#extract the tag having Price\n",
    "price = web_driver.find_elements_by_xpath(\"//span[@class='a-color-base']\")\n",
    "#to remove extra data other than output we required\n",
    "for i in price:\n",
    "    Price.append(i.text)\n",
    "\n",
    "\n",
    "#extract the tag having Product details\n",
    "detail = web_driver.find_elements_by_xpath(\"//div[@class='a-section feature detail-bullets-wrapper bucket']\")\n",
    "#to remove extra data other than output we required\n",
    "for i in detail:\n",
    "    Product_detail.append(i.text.replace('\\n', ' '))"
   ]
  },
  {
   "cell_type": "code",
   "execution_count": 529,
   "metadata": {},
   "outputs": [],
   "source": [
    "#Get url in web driver first\n",
    "url = 'https://www.amazon.fr/dp/000102163X'\n",
    "web_driver.get(url)\n",
    "#the url will open"
   ]
  },
  {
   "cell_type": "code",
   "execution_count": 530,
   "metadata": {},
   "outputs": [],
   "source": [
    "#extract the tag having Product_name\n",
    "Product_name1 = web_driver.find_elements_by_xpath(\"//h1[@class='a-spacing-none a-text-normal']\")\n",
    "#to remove extra data other than output we required\n",
    "for i in Product_name1:\n",
    "    Product_name.append(i.text)\n",
    "    \n",
    "    \n",
    "#extract the Image Url\n",
    "url = web_driver.find_elements_by_xpath(\"//img[@class='a-dynamic-image image-stretch-horizontal frontImage']\")\n",
    "#to remove extra data other than output we required\n",
    "for i in url:\n",
    "    Image_url.append(i.get_attribute('src'))\n",
    "\n",
    "    \n",
    "#extract the tag having Price\n",
    "price = web_driver.find_elements_by_xpath(\"//span[@class='a-color-base']\")\n",
    "#to remove extra data other than output we required\n",
    "for i in price:\n",
    "    Price.append(i.text)\n",
    "\n",
    "\n",
    "#extract the tag having Product details\n",
    "detail = web_driver.find_elements_by_xpath(\"//div[@class='a-section feature detail-bullets-wrapper bucket']\")\n",
    "#to remove extra data other than output we required\n",
    "for i in detail:\n",
    "    Product_detail.append(i.text.replace('\\n', ' '))"
   ]
  },
  {
   "cell_type": "code",
   "execution_count": 531,
   "metadata": {},
   "outputs": [
    {
     "name": "stdout",
     "output_type": "stream",
     "text": [
      "URL is not available\n"
     ]
    }
   ],
   "source": [
    "#Get url in web driver first\n",
    "url = 'https://www.amazon.fr/dp/1022369'\n",
    "web_driver.get(url)\n",
    "#the url will open\n",
    "\n",
    "print(\"URL is not available\")"
   ]
  },
  {
   "cell_type": "code",
   "execution_count": 532,
   "metadata": {},
   "outputs": [
    {
     "name": "stdout",
     "output_type": "stream",
     "text": [
      "URL is not available\n"
     ]
    }
   ],
   "source": [
    "#Get url in web driver first\n",
    "url = 'https://www.amazon.it/dp/1022369'\n",
    "web_driver.get(url)\n",
    "#the url will open\n",
    "\n",
    "print(\"URL is not available\")"
   ]
  },
  {
   "cell_type": "code",
   "execution_count": 533,
   "metadata": {},
   "outputs": [
    {
     "name": "stdout",
     "output_type": "stream",
     "text": [
      "URL is not available\n"
     ]
    }
   ],
   "source": [
    "#Get url in web driver first\n",
    "url = 'https://www.amazon.fr/dp/1022857'\n",
    "web_driver.get(url)\n",
    "#the url will open\n",
    "\n",
    "print(\"URL is not available\")"
   ]
  },
  {
   "cell_type": "code",
   "execution_count": 534,
   "metadata": {},
   "outputs": [
    {
     "name": "stdout",
     "output_type": "stream",
     "text": [
      "URL is not available\n"
     ]
    }
   ],
   "source": [
    "#Get url in web driver first\n",
    "url = 'https://www.amazon.it/dp/1022857'\n",
    "web_driver.get(url)\n",
    "#the url will open\n",
    "\n",
    "print(\"URL is not available\")"
   ]
  },
  {
   "cell_type": "code",
   "execution_count": 535,
   "metadata": {},
   "outputs": [
    {
     "name": "stdout",
     "output_type": "stream",
     "text": [
      "URL is not available\n"
     ]
    }
   ],
   "source": [
    "#Get url in web driver first\n",
    "url = 'https://www.amazon.de/dp/1032666'\n",
    "web_driver.get(url)\n",
    "#the url will open\n",
    "\n",
    "print(\"URL is not available\")"
   ]
  },
  {
   "cell_type": "code",
   "execution_count": 536,
   "metadata": {},
   "outputs": [
    {
     "name": "stdout",
     "output_type": "stream",
     "text": [
      "URL is not available\n"
     ]
    }
   ],
   "source": [
    "#Get url in web driver first\n",
    "url = 'https://www.amazon.fr/dp/1032666'\n",
    "web_driver.get(url)\n",
    "#the url will open\n",
    "\n",
    "print(\"URL is not available\")"
   ]
  },
  {
   "cell_type": "code",
   "execution_count": 537,
   "metadata": {},
   "outputs": [
    {
     "name": "stdout",
     "output_type": "stream",
     "text": [
      "URL is not available\n"
     ]
    }
   ],
   "source": [
    "#Get url in web driver first\n",
    "url = 'https://www.amazon.de/dp/1034677'\n",
    "web_driver.get(url)\n",
    "#the url will open\n",
    "\n",
    "print(\"URL is not available\")"
   ]
  },
  {
   "cell_type": "code",
   "execution_count": 538,
   "metadata": {},
   "outputs": [
    {
     "name": "stdout",
     "output_type": "stream",
     "text": [
      "URL is not available\n"
     ]
    }
   ],
   "source": [
    "#Get url in web driver first\n",
    "url = 'https://www.amazon.fr/dp/1034677'\n",
    "web_driver.get(url)\n",
    "#the url will open\n",
    "\n",
    "print(\"URL is not available\")"
   ]
  },
  {
   "cell_type": "code",
   "execution_count": 539,
   "metadata": {},
   "outputs": [
    {
     "name": "stdout",
     "output_type": "stream",
     "text": [
      "URL is not available\n"
     ]
    }
   ],
   "source": [
    "#Get url in web driver first\n",
    "url = 'https://www.amazon.de/dp/1034936'\n",
    "web_driver.get(url)\n",
    "#the url will open\n",
    "\n",
    "print(\"URL is not available\")"
   ]
  },
  {
   "cell_type": "code",
   "execution_count": 540,
   "metadata": {},
   "outputs": [
    {
     "name": "stdout",
     "output_type": "stream",
     "text": [
      "URL is not available\n"
     ]
    }
   ],
   "source": [
    "#Get url in web driver first\n",
    "url = 'https://www.amazon.fr/dp/1034936'\n",
    "web_driver.get(url)\n",
    "#the url will open\n",
    "\n",
    "print(\"URL is not available\")"
   ]
  },
  {
   "cell_type": "code",
   "execution_count": 541,
   "metadata": {},
   "outputs": [
    {
     "name": "stdout",
     "output_type": "stream",
     "text": [
      "URL is not available\n"
     ]
    }
   ],
   "source": [
    "#Get url in web driver first\n",
    "url = 'https://www.amazon.de/dp/1034944'\n",
    "web_driver.get(url)\n",
    "#the url will open\n",
    "\n",
    "print(\"URL is not available\")"
   ]
  },
  {
   "cell_type": "code",
   "execution_count": 542,
   "metadata": {},
   "outputs": [
    {
     "name": "stdout",
     "output_type": "stream",
     "text": [
      "URL is not available\n"
     ]
    }
   ],
   "source": [
    "#Get url in web driver first\n",
    "url = 'https://www.amazon.fr/dp/1034944'\n",
    "web_driver.get(url)\n",
    "#the url will open\n",
    "\n",
    "print(\"URL is not available\")"
   ]
  },
  {
   "cell_type": "code",
   "execution_count": 543,
   "metadata": {},
   "outputs": [
    {
     "name": "stdout",
     "output_type": "stream",
     "text": [
      "URL is not available\n"
     ]
    }
   ],
   "source": [
    "#Get url in web driver first\n",
    "url = 'https://www.amazon.de/dp/1035002'\n",
    "web_driver.get(url)\n",
    "#the url will open\n",
    "\n",
    "print(\"URL is not available\")"
   ]
  },
  {
   "cell_type": "code",
   "execution_count": 544,
   "metadata": {},
   "outputs": [
    {
     "name": "stdout",
     "output_type": "stream",
     "text": [
      "URL is not available\n"
     ]
    }
   ],
   "source": [
    "#Get url in web driver first\n",
    "url = 'https://www.amazon.fr/dp/1035002'\n",
    "web_driver.get(url)\n",
    "#the url will open\n",
    "\n",
    "print(\"URL is not available\")"
   ]
  },
  {
   "cell_type": "code",
   "execution_count": 545,
   "metadata": {},
   "outputs": [
    {
     "name": "stdout",
     "output_type": "stream",
     "text": [
      "URL is not available\n"
     ]
    }
   ],
   "source": [
    "#Get url in web driver first\n",
    "url = 'https://www.amazon.de/dp/1035029'\n",
    "web_driver.get(url)\n",
    "#the url will open\n",
    "\n",
    "print(\"URL is not available\")"
   ]
  },
  {
   "cell_type": "code",
   "execution_count": 546,
   "metadata": {},
   "outputs": [
    {
     "name": "stdout",
     "output_type": "stream",
     "text": [
      "URL is not available\n"
     ]
    }
   ],
   "source": [
    "#Get url in web driver first\n",
    "url = 'https://www.amazon.fr/dp/1035029'\n",
    "web_driver.get(url)\n",
    "#the url will open\n",
    "\n",
    "print(\"URL is not available\")"
   ]
  },
  {
   "cell_type": "code",
   "execution_count": 547,
   "metadata": {},
   "outputs": [
    {
     "name": "stdout",
     "output_type": "stream",
     "text": [
      "URL is not available\n"
     ]
    }
   ],
   "source": [
    "#Get url in web driver first\n",
    "url = 'https://www.amazon.de/dp/1035053'\n",
    "web_driver.get(url)\n",
    "#the url will open\n",
    "\n",
    "print(\"URL is not available\")"
   ]
  },
  {
   "cell_type": "code",
   "execution_count": 548,
   "metadata": {},
   "outputs": [
    {
     "name": "stdout",
     "output_type": "stream",
     "text": [
      "URL is not available\n"
     ]
    }
   ],
   "source": [
    "#Get url in web driver first\n",
    "url = 'https://www.amazon.fr/dp/1035053'\n",
    "web_driver.get(url)\n",
    "#the url will open\n",
    "\n",
    "print(\"URL is not available\")"
   ]
  },
  {
   "cell_type": "code",
   "execution_count": 549,
   "metadata": {},
   "outputs": [
    {
     "name": "stdout",
     "output_type": "stream",
     "text": [
      "URL is not available\n"
     ]
    }
   ],
   "source": [
    "#Get url in web driver first\n",
    "url = 'https://www.amazon.es/dp/1035053'\n",
    "web_driver.get(url)\n",
    "#the url will open\n",
    "\n",
    "print(\"URL is not available\")"
   ]
  },
  {
   "cell_type": "code",
   "execution_count": 550,
   "metadata": {},
   "outputs": [
    {
     "name": "stdout",
     "output_type": "stream",
     "text": [
      "URL is not available\n"
     ]
    }
   ],
   "source": [
    "#Get url in web driver first\n",
    "url = 'https://www.amazon.de/dp/1035339'\n",
    "web_driver.get(url)\n",
    "#the url will open\n",
    "\n",
    "print(\"URL is not available\")"
   ]
  },
  {
   "cell_type": "code",
   "execution_count": 551,
   "metadata": {},
   "outputs": [
    {
     "name": "stdout",
     "output_type": "stream",
     "text": [
      "URL is not available\n"
     ]
    }
   ],
   "source": [
    "#Get url in web driver first\n",
    "url = 'https://www.amazon.fr/dp/1035339'\n",
    "web_driver.get(url)\n",
    "#the url will open\n",
    "\n",
    "print(\"URL is not available\")"
   ]
  },
  {
   "cell_type": "code",
   "execution_count": 552,
   "metadata": {},
   "outputs": [
    {
     "name": "stdout",
     "output_type": "stream",
     "text": [
      "URL is not available\n"
     ]
    }
   ],
   "source": [
    "#Get url in web driver first\n",
    "url = 'https://www.amazon.de/dp/1036866'\n",
    "web_driver.get(url)\n",
    "#the url will open\n",
    "\n",
    "print(\"URL is not available\")"
   ]
  },
  {
   "cell_type": "code",
   "execution_count": 553,
   "metadata": {},
   "outputs": [
    {
     "name": "stdout",
     "output_type": "stream",
     "text": [
      "URL is not available\n"
     ]
    }
   ],
   "source": [
    "#Get url in web driver first\n",
    "url = 'https://www.amazon.es/dp/1036866'\n",
    "web_driver.get(url)\n",
    "#the url will open\n",
    "\n",
    "print(\"URL is not available\")"
   ]
  },
  {
   "cell_type": "code",
   "execution_count": 554,
   "metadata": {},
   "outputs": [
    {
     "name": "stdout",
     "output_type": "stream",
     "text": [
      "URL is not available\n"
     ]
    }
   ],
   "source": [
    "#Get url in web driver first\n",
    "url = 'https://www.amazon.fr/dp/1035053'\n",
    "web_driver.get(url)\n",
    "#the url will open\n",
    "\n",
    "print(\"URL is not available\")"
   ]
  },
  {
   "cell_type": "code",
   "execution_count": 555,
   "metadata": {},
   "outputs": [
    {
     "name": "stdout",
     "output_type": "stream",
     "text": [
      "URL is not available\n"
     ]
    }
   ],
   "source": [
    "#Get url in web driver first\n",
    "url = 'https://www.amazon.de/dp/1037137'\n",
    "web_driver.get(url)\n",
    "#the url will open\n",
    "\n",
    "print(\"URL is not available\")"
   ]
  },
  {
   "cell_type": "code",
   "execution_count": 556,
   "metadata": {},
   "outputs": [
    {
     "name": "stdout",
     "output_type": "stream",
     "text": [
      "URL is not available\n"
     ]
    }
   ],
   "source": [
    "#Get url in web driver first\n",
    "url = 'https://www.amazon.fr/dp/1037137'\n",
    "web_driver.get(url)\n",
    "#the url will open\n",
    "\n",
    "print(\"URL is not available\")"
   ]
  },
  {
   "cell_type": "code",
   "execution_count": 557,
   "metadata": {},
   "outputs": [
    {
     "name": "stdout",
     "output_type": "stream",
     "text": [
      "URL is not available\n"
     ]
    }
   ],
   "source": [
    "#Get url in web driver first\n",
    "url = 'https://www.amazon.de/dp/1037188'\n",
    "web_driver.get(url)\n",
    "#the url will open\n",
    "\n",
    "print(\"URL is not available\")"
   ]
  },
  {
   "cell_type": "code",
   "execution_count": 558,
   "metadata": {},
   "outputs": [
    {
     "name": "stdout",
     "output_type": "stream",
     "text": [
      "URL is not available\n"
     ]
    }
   ],
   "source": [
    "#Get url in web driver first\n",
    "url = 'https://www.amazon.fr/dp/1037188'\n",
    "web_driver.get(url)\n",
    "#the url will open\n",
    "\n",
    "print(\"URL is not available\")"
   ]
  },
  {
   "cell_type": "code",
   "execution_count": 559,
   "metadata": {},
   "outputs": [
    {
     "name": "stdout",
     "output_type": "stream",
     "text": [
      "URL is not available\n"
     ]
    }
   ],
   "source": [
    "#Get url in web driver first\n",
    "url = 'https://www.amazon.de/dp/1037994'\n",
    "web_driver.get(url)\n",
    "#the url will open\n",
    "\n",
    "print(\"URL is not available\")"
   ]
  },
  {
   "cell_type": "code",
   "execution_count": 560,
   "metadata": {},
   "outputs": [
    {
     "name": "stdout",
     "output_type": "stream",
     "text": [
      "URL is not available\n"
     ]
    }
   ],
   "source": [
    "#Get url in web driver first\n",
    "url = 'https://www.amazon.fr/dp/1037994'\n",
    "web_driver.get(url)\n",
    "#the url will open\n",
    "\n",
    "print(\"URL is not available\")"
   ]
  },
  {
   "cell_type": "code",
   "execution_count": 561,
   "metadata": {},
   "outputs": [],
   "source": [
    "#Get url in web driver first\n",
    "url = 'https://www.amazon.de/dp/000103863X'\n",
    "web_driver.get(url)\n",
    "#the url will open"
   ]
  },
  {
   "cell_type": "code",
   "execution_count": 562,
   "metadata": {},
   "outputs": [],
   "source": [
    "#extract the tag having Product_name\n",
    "Product_name1 = web_driver.find_elements_by_xpath(\"//h1[@class='a-spacing-none a-text-normal']\")\n",
    "#to remove extra data other than output we required\n",
    "for i in Product_name1:\n",
    "    Product_name.append(i.text)\n",
    "    \n",
    "    \n",
    "#extract the Image Url\n",
    "url = web_driver.find_elements_by_xpath(\"//img[@class='a-dynamic-image image-stretch-horizontal frontImage']\")\n",
    "#to remove extra data other than output we required\n",
    "for i in url:\n",
    "    Image_url.append(i.get_attribute('src'))\n",
    "\n",
    "    \n",
    "#extract the tag having Price\n",
    "price = web_driver.find_elements_by_xpath(\"//span[@class='a-color-base']\")\n",
    "#to remove extra data other than output we required\n",
    "for i in price:\n",
    "    Price.append(i.text)\n",
    "\n",
    "\n",
    "#extract the tag having Product details\n",
    "detail = web_driver.find_elements_by_xpath(\"//div[@class='a-section feature detail-bullets-wrapper bucket']\")\n",
    "#to remove extra data other than output we required\n",
    "for i in detail:\n",
    "    Product_detail.append(i.text.replace('\\n', ' '))"
   ]
  },
  {
   "cell_type": "code",
   "execution_count": 563,
   "metadata": {},
   "outputs": [],
   "source": [
    "#Get url in web driver first\n",
    "url = 'https://www.amazon.fr/dp/000103863X'\n",
    "web_driver.get(url)\n",
    "#the url will open"
   ]
  },
  {
   "cell_type": "code",
   "execution_count": 564,
   "metadata": {},
   "outputs": [],
   "source": [
    "#extract the tag having Product_name\n",
    "Product_name1 = web_driver.find_elements_by_xpath(\"//h1[@class='a-spacing-none a-text-normal']\")\n",
    "#to remove extra data other than output we required\n",
    "for i in Product_name1:\n",
    "    Product_name.append(i.text)\n",
    "    \n",
    "    \n",
    "#extract the Image Url\n",
    "url = web_driver.find_elements_by_xpath(\"//img[@class='a-dynamic-image image-stretch-horizontal frontImage']\")\n",
    "#to remove extra data other than output we required\n",
    "for i in url:\n",
    "    Image_url.append(i.get_attribute('src'))\n",
    "\n",
    "    \n",
    "#extract the tag having Price\n",
    "price = web_driver.find_elements_by_xpath(\"//span[@class='a-color-base']\")\n",
    "#to remove extra data other than output we required\n",
    "for i in price:\n",
    "    Price.append(i.text)\n",
    "\n",
    "\n",
    "#extract the tag having Product details\n",
    "detail = web_driver.find_elements_by_xpath(\"//div[@class='a-section feature detail-bullets-wrapper bucket']\")\n",
    "#to remove extra data other than output we required\n",
    "for i in detail:\n",
    "    Product_detail.append(i.text.replace('\\n', ' '))"
   ]
  },
  {
   "cell_type": "code",
   "execution_count": 565,
   "metadata": {},
   "outputs": [
    {
     "name": "stdout",
     "output_type": "stream",
     "text": [
      "URL is not available\n"
     ]
    }
   ],
   "source": [
    "#Get url in web driver first\n",
    "url = 'https://www.amazon.de/dp/1039466'\n",
    "web_driver.get(url)\n",
    "#the url will open\n",
    "\n",
    "print(\"URL is not available\")"
   ]
  },
  {
   "cell_type": "code",
   "execution_count": 566,
   "metadata": {},
   "outputs": [
    {
     "name": "stdout",
     "output_type": "stream",
     "text": [
      "URL is not available\n"
     ]
    }
   ],
   "source": [
    "#Get url in web driver first\n",
    "url = 'https://www.amazon.fr/dp/1039466'\n",
    "web_driver.get(url)\n",
    "#the url will open\n",
    "\n",
    "print(\"URL is not available\")"
   ]
  },
  {
   "cell_type": "code",
   "execution_count": 567,
   "metadata": {},
   "outputs": [
    {
     "name": "stdout",
     "output_type": "stream",
     "text": [
      "URL is not available\n"
     ]
    }
   ],
   "source": [
    "#Get url in web driver first\n",
    "url = 'https://www.amazon.fr/dp/1040871'\n",
    "web_driver.get(url)\n",
    "#the url will open\n",
    "\n",
    "print(\"URL is not available\")"
   ]
  },
  {
   "cell_type": "code",
   "execution_count": 568,
   "metadata": {},
   "outputs": [
    {
     "name": "stdout",
     "output_type": "stream",
     "text": [
      "URL is not available\n"
     ]
    }
   ],
   "source": [
    "#Get url in web driver first\n",
    "url = 'https://www.amazon.it/dp/1040871'\n",
    "web_driver.get(url)\n",
    "#the url will open\n",
    "\n",
    "print(\"URL is not available\")"
   ]
  },
  {
   "cell_type": "code",
   "execution_count": 569,
   "metadata": {},
   "outputs": [
    {
     "name": "stdout",
     "output_type": "stream",
     "text": [
      "URL is not available\n"
     ]
    }
   ],
   "source": [
    "#Get url in web driver first\n",
    "url = 'https://www.amazon.de/dp/1040979'\n",
    "web_driver.get(url)\n",
    "#the url will open\n",
    "\n",
    "print(\"URL is not available\")"
   ]
  },
  {
   "cell_type": "code",
   "execution_count": 570,
   "metadata": {},
   "outputs": [
    {
     "name": "stdout",
     "output_type": "stream",
     "text": [
      "URL is not available\n"
     ]
    }
   ],
   "source": [
    "#Get url in web driver first\n",
    "url = 'https://www.amazon.fr/dp/1040979'\n",
    "web_driver.get(url)\n",
    "#the url will open\n",
    "\n",
    "print(\"URL is not available\")"
   ]
  },
  {
   "cell_type": "code",
   "execution_count": 571,
   "metadata": {},
   "outputs": [
    {
     "name": "stdout",
     "output_type": "stream",
     "text": [
      "URL is not available\n"
     ]
    }
   ],
   "source": [
    "#Get url in web driver first\n",
    "url = 'https://www.amazon.de/dp/1040987'\n",
    "web_driver.get(url)\n",
    "#the url will open\n",
    "\n",
    "print(\"URL is not available\")"
   ]
  },
  {
   "cell_type": "code",
   "execution_count": 572,
   "metadata": {},
   "outputs": [
    {
     "name": "stdout",
     "output_type": "stream",
     "text": [
      "URL is not available\n"
     ]
    }
   ],
   "source": [
    "#Get url in web driver first\n",
    "url = 'https://www.amazon.fr/dp/1040987'\n",
    "web_driver.get(url)\n",
    "#the url will open\n",
    "\n",
    "print(\"URL is not available\")"
   ]
  },
  {
   "cell_type": "code",
   "execution_count": 573,
   "metadata": {},
   "outputs": [
    {
     "name": "stdout",
     "output_type": "stream",
     "text": [
      "URL is not available\n"
     ]
    }
   ],
   "source": [
    "#Get url in web driver first\n",
    "url = 'https://www.amazon.de/dp/1041002'\n",
    "web_driver.get(url)\n",
    "#the url will open\n",
    "\n",
    "print(\"URL is not available\")"
   ]
  },
  {
   "cell_type": "code",
   "execution_count": 574,
   "metadata": {},
   "outputs": [
    {
     "name": "stdout",
     "output_type": "stream",
     "text": [
      "URL is not available\n"
     ]
    }
   ],
   "source": [
    "#Get url in web driver first\n",
    "url = 'https://www.amazon.fr/dp/1041002'\n",
    "web_driver.get(url)\n",
    "#the url will open\n",
    "\n",
    "print(\"URL is not available\")"
   ]
  },
  {
   "cell_type": "code",
   "execution_count": 575,
   "metadata": {},
   "outputs": [
    {
     "name": "stdout",
     "output_type": "stream",
     "text": [
      "URL is not available\n"
     ]
    }
   ],
   "source": [
    "#Get url in web driver first\n",
    "url = 'https://www.amazon.de/dp/1041991'\n",
    "web_driver.get(url)\n",
    "#the url will open\n",
    "\n",
    "print(\"URL is not available\")"
   ]
  },
  {
   "cell_type": "code",
   "execution_count": 576,
   "metadata": {},
   "outputs": [
    {
     "name": "stdout",
     "output_type": "stream",
     "text": [
      "URL is not available\n"
     ]
    }
   ],
   "source": [
    "#Get url in web driver first\n",
    "url = 'https://www.amazon.fr/dp/1041991'\n",
    "web_driver.get(url)\n",
    "#the url will open\n",
    "\n",
    "print(\"URL is not available\")"
   ]
  },
  {
   "cell_type": "code",
   "execution_count": 577,
   "metadata": {},
   "outputs": [
    {
     "name": "stdout",
     "output_type": "stream",
     "text": [
      "URL is not available\n"
     ]
    }
   ],
   "source": [
    "#Get url in web driver first\n",
    "url = 'https://www.amazon.it/dp/1040871'\n",
    "web_driver.get(url)\n",
    "#the url will open\n",
    "\n",
    "print(\"URL is not available\")"
   ]
  },
  {
   "cell_type": "code",
   "execution_count": 578,
   "metadata": {},
   "outputs": [
    {
     "name": "stdout",
     "output_type": "stream",
     "text": [
      "URL is not available\n"
     ]
    }
   ],
   "source": [
    "#Get url in web driver first\n",
    "url = 'https://www.amazon.it/dp/1040871'\n",
    "web_driver.get(url)\n",
    "#the url will open\n",
    "\n",
    "print(\"URL is not available\")"
   ]
  },
  {
   "cell_type": "code",
   "execution_count": 579,
   "metadata": {},
   "outputs": [],
   "source": [
    "#Get url in web driver first\n",
    "url = 'https://www.amazon.de/dp/000104317X'\n",
    "web_driver.get(url)\n",
    "#the url will open"
   ]
  },
  {
   "cell_type": "code",
   "execution_count": 580,
   "metadata": {},
   "outputs": [],
   "source": [
    "#extract the tag having Product_name\n",
    "Product_name1 = web_driver.find_elements_by_xpath(\"//h1[@class='a-spacing-none a-text-normal']\")\n",
    "#to remove extra data other than output we required\n",
    "for i in Product_name1:\n",
    "    Product_name.append(i.text)\n",
    "\n",
    "#extract the Image Url\n",
    "url = web_driver.find_elements_by_xpath(\"//img[@class='a-dynamic-image image-stretch-vertical frontImage']\")\n",
    "#to remove extra data other than output we required\n",
    "for i in url:\n",
    "    Image_url.append(i.get_attribute('src'))\n",
    "\n",
    "    \n",
    "#extract the tag having Price\n",
    "price = web_driver.find_elements_by_xpath(\"//span[@class='a-color-base']\")\n",
    "#to remove extra data other than output we required\n",
    "for i in price:\n",
    "    Price.append(i.text)\n",
    "\n",
    "\n",
    "#extract the tag having Product details\n",
    "detail = web_driver.find_elements_by_xpath(\"//div[@class='a-section feature detail-bullets-wrapper bucket']\")\n",
    "#to remove extra data other than output we required\n",
    "for i in detail:\n",
    "    Product_detail.append(i.text.replace('\\n', ' '))"
   ]
  },
  {
   "cell_type": "code",
   "execution_count": 581,
   "metadata": {},
   "outputs": [
    {
     "data": {
      "text/plain": [
       "['https://m.media-amazon.com/images/I/41xHbjdSXJL._SX355_PIbundle-2,TopRight,0,0_SX355SY222SH20_.jpg',\n",
       " 'https://images-na.ssl-images-amazon.com/images/I/41zw0783tpL._SX380_BO1,204,203,200_.jpg',\n",
       " 'https://images-na.ssl-images-amazon.com/images/I/41zw0783tpL._SX380_BO1,204,203,200_.jpg',\n",
       " 'https://images-na.ssl-images-amazon.com/images/I/51sNFyf2t6L._SX378_BO1,204,203,200_.jpg',\n",
       " 'https://images-na.ssl-images-amazon.com/images/I/51sNFyf2t6L._SX378_BO1,204,203,200_.jpg',\n",
       " 'https://images-na.ssl-images-amazon.com/images/I/41HnYQBk7PL._SX379_BO1,204,203,200_.jpg',\n",
       " 'https://images-na.ssl-images-amazon.com/images/I/41HnYQBk7PL._SX379_BO1,204,203,200_.jpg',\n",
       " 'https://images-na.ssl-images-amazon.com/images/I/41fgZjPnmCL._SX351_BO1,204,203,200_.jpg']"
      ]
     },
     "execution_count": 581,
     "metadata": {},
     "output_type": "execute_result"
    }
   ],
   "source": [
    "Image_url"
   ]
  },
  {
   "cell_type": "code",
   "execution_count": 582,
   "metadata": {},
   "outputs": [],
   "source": [
    "#Get url in web driver first\n",
    "url = 'https://www.amazon.fr/dp/000104317X'\n",
    "web_driver.get(url)\n",
    "#the url will open"
   ]
  },
  {
   "cell_type": "code",
   "execution_count": 583,
   "metadata": {},
   "outputs": [],
   "source": [
    "#extract the tag having Product_name\n",
    "Product_name1 = web_driver.find_elements_by_xpath(\"//h1[@class='a-spacing-none a-text-normal']\")\n",
    "#to remove extra data other than output we required\n",
    "for i in Product_name1:\n",
    "    Product_name.append(i.text)\n",
    "    \n",
    "    \n",
    "#extract the Image Url\n",
    "url = web_driver.find_elements_by_xpath(\"//img[@class='a-dynamic-image image-stretch-vertical frontImage']\")\n",
    "#to remove extra data other than output we required\n",
    "for i in url:\n",
    "    Image_url.append(i.get_attribute('src'))\n",
    "\n",
    "    \n",
    "#extract the tag having Price\n",
    "price = web_driver.find_elements_by_xpath(\"//span[@class='a-color-base']\")\n",
    "#to remove extra data other than output we required\n",
    "for i in price:\n",
    "    Price.append(i.text)\n",
    "\n",
    "\n",
    "#extract the tag having Product details\n",
    "detail = web_driver.find_elements_by_xpath(\"//div[@class='a-section feature detail-bullets-wrapper bucket']\")\n",
    "#to remove extra data other than output we required\n",
    "for i in detail:\n",
    "    Product_detail.append(i.text.replace('\\n', ' '))"
   ]
  },
  {
   "cell_type": "code",
   "execution_count": 586,
   "metadata": {},
   "outputs": [
    {
     "name": "stdout",
     "output_type": "stream",
     "text": [
      "URL is not available\n"
     ]
    }
   ],
   "source": [
    "#Get url in web driver first\n",
    "url = 'https://www.amazon.de/dp/1043331'\n",
    "web_driver.get(url)\n",
    "#the url will open\n",
    "\n",
    "print(\"URL is not available\")"
   ]
  },
  {
   "cell_type": "code",
   "execution_count": 587,
   "metadata": {},
   "outputs": [
    {
     "name": "stdout",
     "output_type": "stream",
     "text": [
      "URL is not available\n"
     ]
    }
   ],
   "source": [
    "#Get url in web driver first\n",
    "url = 'https://www.amazon.fr/dp/1043331'\n",
    "web_driver.get(url)\n",
    "#the url will open\n",
    "\n",
    "print(\"URL is not available\")"
   ]
  },
  {
   "cell_type": "code",
   "execution_count": 588,
   "metadata": {},
   "outputs": [],
   "source": [
    "#Get url in web driver first\n",
    "url = 'https://www.amazon.de/dp/000104348X'\n",
    "web_driver.get(url)\n",
    "#the url will open"
   ]
  },
  {
   "cell_type": "code",
   "execution_count": 589,
   "metadata": {},
   "outputs": [],
   "source": [
    "#extract the tag having Product_name\n",
    "Product_name1 = web_driver.find_elements_by_xpath(\"//h1[@class='a-spacing-none a-text-normal']\")\n",
    "#to remove extra data other than output we required\n",
    "for i in Product_name1:\n",
    "    Product_name.append(i.text)\n",
    "    \n",
    "    \n",
    "#extract the Image Url\n",
    "url = web_driver.find_elements_by_xpath(\"//img[@class='a-dynamic-image image-stretch-horizontal frontImage']\")\n",
    "#to remove extra data other than output we required\n",
    "for i in url:\n",
    "    Image_url.append(i.get_attribute('src'))\n",
    "\n",
    "    \n",
    "#extract the tag having Price\n",
    "price = web_driver.find_elements_by_xpath(\"//span[@class='a-color-base']\")\n",
    "#to remove extra data other than output we required\n",
    "for i in price:\n",
    "    Price.append(i.text)\n",
    "\n",
    "\n",
    "#extract the tag having Product details\n",
    "detail = web_driver.find_elements_by_xpath(\"//div[@class='a-section feature detail-bullets-wrapper bucket']\")\n",
    "#to remove extra data other than output we required\n",
    "for i in detail:\n",
    "    Product_detail.append(i.text.replace('\\n', ' '))"
   ]
  },
  {
   "cell_type": "code",
   "execution_count": 591,
   "metadata": {},
   "outputs": [],
   "source": [
    "#Get url in web driver first\n",
    "url = 'https://www.amazon.fr/dp/000104348X'\n",
    "web_driver.get(url)\n",
    "#the url will open"
   ]
  },
  {
   "cell_type": "code",
   "execution_count": 592,
   "metadata": {},
   "outputs": [],
   "source": [
    "#extract the tag having Product_name\n",
    "Product_name1 = web_driver.find_elements_by_xpath(\"//h1[@class='a-spacing-none a-text-normal']\")\n",
    "#to remove extra data other than output we required\n",
    "for i in Product_name1:\n",
    "    Product_name.append(i.text)\n",
    "    \n",
    "    \n",
    "#extract the Image Url\n",
    "url = web_driver.find_elements_by_xpath(\"//img[@class='a-dynamic-image image-stretch-horizontal frontImage']\")\n",
    "#to remove extra data other than output we required\n",
    "for i in url:\n",
    "    Image_url.append(i.get_attribute('src'))\n",
    "\n",
    "    \n",
    "#extract the tag having Price\n",
    "price = web_driver.find_elements_by_xpath(\"//span[@class='a-color-base']\")\n",
    "#to remove extra data other than output we required\n",
    "for i in price:\n",
    "    Price.append(i.text)\n",
    "\n",
    "\n",
    "#extract the tag having Product details\n",
    "detail = web_driver.find_elements_by_xpath(\"//div[@class='a-section feature detail-bullets-wrapper bucket']\")\n",
    "#to remove extra data other than output we required\n",
    "for i in detail:\n",
    "    Product_detail.append(i.text.replace('\\n', ' '))"
   ]
  },
  {
   "cell_type": "code",
   "execution_count": 594,
   "metadata": {},
   "outputs": [
    {
     "name": "stdout",
     "output_type": "stream",
     "text": [
      "URL is not available\n"
     ]
    }
   ],
   "source": [
    "#Get url in web driver first\n",
    "url = 'https://www.amazon.de/dp/1043498'\n",
    "web_driver.get(url)\n",
    "#the url will open\n",
    "\n",
    "print(\"URL is not available\")"
   ]
  },
  {
   "cell_type": "code",
   "execution_count": 595,
   "metadata": {},
   "outputs": [
    {
     "name": "stdout",
     "output_type": "stream",
     "text": [
      "URL is not available\n"
     ]
    }
   ],
   "source": [
    "#Get url in web driver first\n",
    "url = 'https://www.amazon.fr/dp/1043498'\n",
    "web_driver.get(url)\n",
    "#the url will open\n",
    "\n",
    "print(\"URL is not available\")"
   ]
  },
  {
   "cell_type": "code",
   "execution_count": 596,
   "metadata": {},
   "outputs": [
    {
     "name": "stdout",
     "output_type": "stream",
     "text": [
      "URL is not available\n"
     ]
    }
   ],
   "source": [
    "#Get url in web driver first\n",
    "url = 'https://www.amazon.de/dp/1043773'\n",
    "web_driver.get(url)\n",
    "#the url will open\n",
    "\n",
    "print(\"URL is not available\")"
   ]
  },
  {
   "cell_type": "code",
   "execution_count": 597,
   "metadata": {},
   "outputs": [
    {
     "name": "stdout",
     "output_type": "stream",
     "text": [
      "URL is not available\n"
     ]
    }
   ],
   "source": [
    "#Get url in web driver first\n",
    "url = 'https://www.amazon.fr/dp/1043773'\n",
    "web_driver.get(url)\n",
    "#the url will open\n",
    "\n",
    "print(\"URL is not available\")"
   ]
  },
  {
   "cell_type": "code",
   "execution_count": 598,
   "metadata": {},
   "outputs": [],
   "source": [
    "#Get url in web driver first\n",
    "url = 'https://www.amazon.de/dp/000104396X'\n",
    "web_driver.get(url)\n",
    "#the url will open"
   ]
  },
  {
   "cell_type": "code",
   "execution_count": 599,
   "metadata": {},
   "outputs": [],
   "source": [
    "#extract the tag having Product_name\n",
    "Product_name1 = web_driver.find_elements_by_xpath(\"//h1[@class='a-spacing-none a-text-normal']\")\n",
    "#to remove extra data other than output we required\n",
    "for i in Product_name1:\n",
    "    Product_name.append(i.text)\n",
    "    \n",
    "    \n",
    "#extract the Image Url\n",
    "url = web_driver.find_elements_by_xpath(\"//img[@class='a-dynamic-image image-stretch-horizontal frontImage']\")\n",
    "#to remove extra data other than output we required\n",
    "for i in url:\n",
    "    Image_url.append(i.get_attribute('src'))\n",
    "\n",
    "    \n",
    "#extract the tag having Price\n",
    "price = web_driver.find_elements_by_xpath(\"//span[@class='a-color-base']\")\n",
    "#to remove extra data other than output we required\n",
    "for i in price:\n",
    "    Price.append(i.text)\n",
    "\n",
    "\n",
    "#extract the tag having Product details\n",
    "detail = web_driver.find_elements_by_xpath(\"//div[@class='a-section feature detail-bullets-wrapper bucket']\")\n",
    "#to remove extra data other than output we required\n",
    "for i in detail:\n",
    "    Product_detail.append(i.text.replace('\\n', ' '))"
   ]
  },
  {
   "cell_type": "code",
   "execution_count": 601,
   "metadata": {},
   "outputs": [],
   "source": [
    "#Get url in web driver first\n",
    "url = 'https://www.amazon.fr/dp/000104396X'\n",
    "web_driver.get(url)\n",
    "#the url will open"
   ]
  },
  {
   "cell_type": "code",
   "execution_count": 602,
   "metadata": {},
   "outputs": [],
   "source": [
    "#extract the tag having Product_name\n",
    "Product_name1 = web_driver.find_elements_by_xpath(\"//h1[@class='a-spacing-none a-text-normal']\")\n",
    "#to remove extra data other than output we required\n",
    "for i in Product_name1:\n",
    "    Product_name.append(i.text)\n",
    "    \n",
    "    \n",
    "#extract the Image Url\n",
    "url = web_driver.find_elements_by_xpath(\"//img[@class='a-dynamic-image image-stretch-horizontal frontImage']\")\n",
    "#to remove extra data other than output we required\n",
    "for i in url:\n",
    "    Image_url.append(i.get_attribute('src'))\n",
    "\n",
    "    \n",
    "#extract the tag having Price\n",
    "price = web_driver.find_elements_by_xpath(\"//span[@class='a-color-base']\")\n",
    "#to remove extra data other than output we required\n",
    "for i in price:\n",
    "    Price.append(i.text)\n",
    "\n",
    "\n",
    "#extract the tag having Product details\n",
    "detail = web_driver.find_elements_by_xpath(\"//div[@class='a-section feature detail-bullets-wrapper bucket']\")\n",
    "#to remove extra data other than output we required\n",
    "for i in detail:\n",
    "    Product_detail.append(i.text.replace('\\n', ' '))"
   ]
  },
  {
   "cell_type": "code",
   "execution_count": 603,
   "metadata": {},
   "outputs": [
    {
     "name": "stdout",
     "output_type": "stream",
     "text": [
      "URL is not available\n"
     ]
    }
   ],
   "source": [
    "#Get url in web driver first\n",
    "url = 'https://www.amazon.de/dp/1048325'\n",
    "web_driver.get(url)\n",
    "#the url will open\n",
    "\n",
    "print(\"URL is not available\")"
   ]
  },
  {
   "cell_type": "code",
   "execution_count": 604,
   "metadata": {},
   "outputs": [
    {
     "name": "stdout",
     "output_type": "stream",
     "text": [
      "URL is not available\n"
     ]
    }
   ],
   "source": [
    "#Get url in web driver first\n",
    "url = 'https://www.amazon.fr/dp/1048325'\n",
    "web_driver.get(url)\n",
    "#the url will open\n",
    "\n",
    "print(\"URL is not available\")"
   ]
  },
  {
   "cell_type": "code",
   "execution_count": 605,
   "metadata": {},
   "outputs": [
    {
     "name": "stdout",
     "output_type": "stream",
     "text": [
      "URL is not available\n"
     ]
    }
   ],
   "source": [
    "#Get url in web driver first\n",
    "url = 'https://www.amazon.de/dp/1049119'\n",
    "web_driver.get(url)\n",
    "#the url will open\n",
    "\n",
    "print(\"URL is not available\")"
   ]
  },
  {
   "cell_type": "code",
   "execution_count": 606,
   "metadata": {},
   "outputs": [
    {
     "name": "stdout",
     "output_type": "stream",
     "text": [
      "URL is not available\n"
     ]
    }
   ],
   "source": [
    "#Get url in web driver first\n",
    "url = 'https://www.amazon.fr/dp/1049119'\n",
    "web_driver.get(url)\n",
    "#the url will open\n",
    "\n",
    "print(\"URL is not available\")"
   ]
  },
  {
   "cell_type": "code",
   "execution_count": 607,
   "metadata": {},
   "outputs": [
    {
     "name": "stdout",
     "output_type": "stream",
     "text": [
      "URL is not available\n"
     ]
    }
   ],
   "source": [
    "#Get url in web driver first\n",
    "url = 'https://www.amazon.de/dp/1057774'\n",
    "web_driver.get(url)\n",
    "#the url will open\n",
    "\n",
    "print(\"URL is not available\")"
   ]
  },
  {
   "cell_type": "code",
   "execution_count": 608,
   "metadata": {},
   "outputs": [
    {
     "name": "stdout",
     "output_type": "stream",
     "text": [
      "URL is not available\n"
     ]
    }
   ],
   "source": [
    "#Get url in web driver first\n",
    "url = 'https://www.amazon.fr/dp/1057774'\n",
    "web_driver.get(url)\n",
    "#the url will open\n",
    "\n",
    "print(\"URL is not available\")"
   ]
  },
  {
   "cell_type": "code",
   "execution_count": 609,
   "metadata": {},
   "outputs": [
    {
     "name": "stdout",
     "output_type": "stream",
     "text": [
      "URL is not available\n"
     ]
    }
   ],
   "source": [
    "#Get url in web driver first\n",
    "url = 'https://www.amazon.de/dp/1057790'\n",
    "web_driver.get(url)\n",
    "#the url will open\n",
    "\n",
    "print(\"URL is not available\")"
   ]
  },
  {
   "cell_type": "code",
   "execution_count": 610,
   "metadata": {},
   "outputs": [
    {
     "name": "stdout",
     "output_type": "stream",
     "text": [
      "URL is not available\n"
     ]
    }
   ],
   "source": [
    "#Get url in web driver first\n",
    "url = 'https://www.amazon.es/dp/1057790'\n",
    "web_driver.get(url)\n",
    "#the url will open\n",
    "\n",
    "print(\"URL is not available\")"
   ]
  },
  {
   "cell_type": "code",
   "execution_count": 611,
   "metadata": {},
   "outputs": [
    {
     "name": "stdout",
     "output_type": "stream",
     "text": [
      "URL is not available\n"
     ]
    }
   ],
   "source": [
    "#Get url in web driver first\n",
    "url = 'https://www.amazon.fr/dp/1043773'\n",
    "web_driver.get(url)\n",
    "#the url will open\n",
    "\n",
    "print(\"URL is not available\")"
   ]
  },
  {
   "cell_type": "code",
   "execution_count": 612,
   "metadata": {},
   "outputs": [
    {
     "name": "stdout",
     "output_type": "stream",
     "text": [
      "URL is not available\n"
     ]
    }
   ],
   "source": [
    "#Get url in web driver first\n",
    "url = 'https://www.amazon.de/dp/1057812'\n",
    "web_driver.get(url)\n",
    "#the url will open\n",
    "\n",
    "print(\"URL is not available\")"
   ]
  },
  {
   "cell_type": "code",
   "execution_count": 613,
   "metadata": {},
   "outputs": [
    {
     "name": "stdout",
     "output_type": "stream",
     "text": [
      "URL is not available\n"
     ]
    }
   ],
   "source": [
    "#Get url in web driver first\n",
    "url = 'https://www.amazon.es/dp/1057812'\n",
    "web_driver.get(url)\n",
    "#the url will open\n",
    "\n",
    "print(\"URL is not available\")"
   ]
  },
  {
   "cell_type": "code",
   "execution_count": 614,
   "metadata": {},
   "outputs": [
    {
     "name": "stdout",
     "output_type": "stream",
     "text": [
      "URL is not available\n"
     ]
    }
   ],
   "source": [
    "#Get url in web driver first\n",
    "url = 'https://www.amazon.fr/dp/1057812'\n",
    "web_driver.get(url)\n",
    "#the url will open\n",
    "\n",
    "print(\"URL is not available\")"
   ]
  },
  {
   "cell_type": "code",
   "execution_count": 615,
   "metadata": {},
   "outputs": [
    {
     "name": "stdout",
     "output_type": "stream",
     "text": [
      "URL is not available\n"
     ]
    }
   ],
   "source": [
    "#Get url in web driver first\n",
    "url = 'https://www.amazon.de/dp/1057987'\n",
    "web_driver.get(url)\n",
    "#the url will open\n",
    "\n",
    "print(\"URL is not available\")"
   ]
  },
  {
   "cell_type": "code",
   "execution_count": 616,
   "metadata": {},
   "outputs": [
    {
     "name": "stdout",
     "output_type": "stream",
     "text": [
      "URL is not available\n"
     ]
    }
   ],
   "source": [
    "#Get url in web driver first\n",
    "url = 'https://www.amazon.fr/dp/1057987'\n",
    "web_driver.get(url)\n",
    "#the url will open\n",
    "\n",
    "print(\"URL is not available\")"
   ]
  },
  {
   "cell_type": "code",
   "execution_count": 617,
   "metadata": {},
   "outputs": [
    {
     "name": "stdout",
     "output_type": "stream",
     "text": [
      "URL is not available\n"
     ]
    }
   ],
   "source": [
    "#Get url in web driver first\n",
    "url = 'https://www.amazon.de/dp/1059238'\n",
    "web_driver.get(url)\n",
    "#the url will open\n",
    "\n",
    "print(\"URL is not available\")"
   ]
  },
  {
   "cell_type": "code",
   "execution_count": 618,
   "metadata": {},
   "outputs": [
    {
     "name": "stdout",
     "output_type": "stream",
     "text": [
      "URL is not available\n"
     ]
    }
   ],
   "source": [
    "#Get url in web driver first\n",
    "url = 'https://www.amazon.fr/dp/1059238'\n",
    "web_driver.get(url)\n",
    "#the url will open\n",
    "\n",
    "print(\"URL is not available\")"
   ]
  },
  {
   "cell_type": "code",
   "execution_count": 619,
   "metadata": {},
   "outputs": [
    {
     "name": "stdout",
     "output_type": "stream",
     "text": [
      "URL is not available\n"
     ]
    }
   ],
   "source": [
    "#Get url in web driver first\n",
    "url = 'https://www.amazon.de/dp/1060619'\n",
    "web_driver.get(url)\n",
    "#the url will open\n",
    "\n",
    "print(\"URL is not available\")"
   ]
  },
  {
   "cell_type": "code",
   "execution_count": 620,
   "metadata": {},
   "outputs": [
    {
     "name": "stdout",
     "output_type": "stream",
     "text": [
      "URL is not available\n"
     ]
    }
   ],
   "source": [
    "#Get url in web driver first\n",
    "url = 'https://www.amazon.fr/dp/1060619'\n",
    "web_driver.get(url)\n",
    "#the url will open\n",
    "\n",
    "print(\"URL is not available\")"
   ]
  },
  {
   "cell_type": "code",
   "execution_count": 621,
   "metadata": {},
   "outputs": [
    {
     "name": "stdout",
     "output_type": "stream",
     "text": [
      "URL is not available\n"
     ]
    }
   ],
   "source": [
    "#Get url in web driver first\n",
    "url = 'https://www.amazon.de/dp/1060694'\n",
    "web_driver.get(url)\n",
    "#the url will open\n",
    "\n",
    "print(\"URL is not available\")"
   ]
  },
  {
   "cell_type": "code",
   "execution_count": 622,
   "metadata": {},
   "outputs": [
    {
     "name": "stdout",
     "output_type": "stream",
     "text": [
      "URL is not available\n"
     ]
    }
   ],
   "source": [
    "#Get url in web driver first\n",
    "url = 'https://www.amazon.es/dp/1060694'\n",
    "web_driver.get(url)\n",
    "#the url will open\n",
    "\n",
    "print(\"URL is not available\")"
   ]
  },
  {
   "cell_type": "code",
   "execution_count": 623,
   "metadata": {},
   "outputs": [
    {
     "name": "stdout",
     "output_type": "stream",
     "text": [
      "URL is not available\n"
     ]
    }
   ],
   "source": [
    "#Get url in web driver first\n",
    "url = 'https://www.amazon.fr/dp/1060694'\n",
    "web_driver.get(url)\n",
    "#the url will open\n",
    "\n",
    "print(\"URL is not available\")"
   ]
  },
  {
   "cell_type": "code",
   "execution_count": 624,
   "metadata": {},
   "outputs": [
    {
     "name": "stdout",
     "output_type": "stream",
     "text": [
      "URL is not available\n"
     ]
    }
   ],
   "source": [
    "#Get url in web driver first\n",
    "url = 'https://www.amazon.de/dp/1061305'\n",
    "web_driver.get(url)\n",
    "#the url will open\n",
    "\n",
    "print(\"URL is not available\")"
   ]
  },
  {
   "cell_type": "code",
   "execution_count": 625,
   "metadata": {},
   "outputs": [
    {
     "name": "stdout",
     "output_type": "stream",
     "text": [
      "URL is not available\n"
     ]
    }
   ],
   "source": [
    "#Get url in web driver first\n",
    "url = 'https://www.amazon.fr/dp/1061305'\n",
    "web_driver.get(url)\n",
    "#the url will open\n",
    "\n",
    "print(\"URL is not available\")"
   ]
  },
  {
   "cell_type": "code",
   "execution_count": 626,
   "metadata": {},
   "outputs": [
    {
     "data": {
      "text/html": [
       "<div>\n",
       "<style scoped>\n",
       "    .dataframe tbody tr th:only-of-type {\n",
       "        vertical-align: middle;\n",
       "    }\n",
       "\n",
       "    .dataframe tbody tr th {\n",
       "        vertical-align: top;\n",
       "    }\n",
       "\n",
       "    .dataframe thead th {\n",
       "        text-align: right;\n",
       "    }\n",
       "</style>\n",
       "<table border=\"1\" class=\"dataframe\">\n",
       "  <thead>\n",
       "    <tr style=\"text-align: right;\">\n",
       "      <th></th>\n",
       "      <th>PRODUCT NAME</th>\n",
       "      <th>IMAGE URL</th>\n",
       "      <th>PRICE</th>\n",
       "      <th>PRODUCT DETAIL</th>\n",
       "    </tr>\n",
       "  </thead>\n",
       "  <tbody>\n",
       "    <tr>\n",
       "      <th>0</th>\n",
       "      <td>Old Spice Shaving Cream - 70 g (original) - Pa...</td>\n",
       "      <td>https://m.media-amazon.com/images/I/41xHbjdSXJ...</td>\n",
       "      <td>€8.00</td>\n",
       "      <td>Brand Old Spice, Scent Rasur, Item weight 0.15...</td>\n",
       "    </tr>\n",
       "    <tr>\n",
       "      <th>1</th>\n",
       "      <td>Short Story: Violoncello und Klavier. (Cello-B...</td>\n",
       "      <td>https://images-na.ssl-images-amazon.com/images...</td>\n",
       "      <td>€11.50</td>\n",
       "      <td>Product details Publisher : SCHOTT MUSIC GmbH ...</td>\n",
       "    </tr>\n",
       "    <tr>\n",
       "      <th>2</th>\n",
       "      <td>Short story (dushkin/hegyi) violon Partition –...</td>\n",
       "      <td>https://images-na.ssl-images-amazon.com/images...</td>\n",
       "      <td>à partir de 23,72 €</td>\n",
       "      <td>Détails sur le produit Éditeur : SCHOTT (1 jan...</td>\n",
       "    </tr>\n",
       "    <tr>\n",
       "      <th>3</th>\n",
       "      <td>Concerto grosso g-Moll: Weihnachtskonzert. op....</td>\n",
       "      <td>https://images-na.ssl-images-amazon.com/images...</td>\n",
       "      <td>€11.88</td>\n",
       "      <td>Product details Publisher : SCHOTT MUSIC GmbH ...</td>\n",
       "    </tr>\n",
       "    <tr>\n",
       "      <th>4</th>\n",
       "      <td>Concerto grosso 8 g opus 6 partitu Partition –...</td>\n",
       "      <td>https://images-na.ssl-images-amazon.com/images...</td>\n",
       "      <td>à partir de 11,89 €</td>\n",
       "      <td>Détails sur le produit Éditeur : SCHOTT (1 jan...</td>\n",
       "    </tr>\n",
       "    <tr>\n",
       "      <th>5</th>\n",
       "      <td>Concertino B-Dur: Violine und Orchester. Klavi...</td>\n",
       "      <td>https://images-na.ssl-images-amazon.com/images...</td>\n",
       "      <td>€12.65</td>\n",
       "      <td>Product details Publisher : SCHOTT MUSIC GmbH ...</td>\n",
       "    </tr>\n",
       "    <tr>\n",
       "      <th>6</th>\n",
       "      <td>Concertino bes violon Partition – 1 janvier 2000</td>\n",
       "      <td>https://images-na.ssl-images-amazon.com/images...</td>\n",
       "      <td>à partir de 13,37 €</td>\n",
       "      <td>Détails sur le produit Éditeur : SCHOTT (1 jan...</td>\n",
       "    </tr>\n",
       "    <tr>\n",
       "      <th>7</th>\n",
       "      <td>Concerto in E flat \"Dumbarton Oaks\": für Kamme...</td>\n",
       "      <td>https://images-na.ssl-images-amazon.com/images...</td>\n",
       "      <td>€18.00</td>\n",
       "      <td>Product details Publisher : SCHOTT MUSIC GmbH ...</td>\n",
       "    </tr>\n",
       "    <tr>\n",
       "      <th>8</th>\n",
       "      <td>Concert es kammerorchester parti musique d'ens...</td>\n",
       "      <td>https://images-na.ssl-images-amazon.com/images...</td>\n",
       "      <td>27,08 €</td>\n",
       "      <td>Détails sur le produit Éditeur : SCHOTT (1 jan...</td>\n",
       "    </tr>\n",
       "    <tr>\n",
       "      <th>9</th>\n",
       "      <td>Musik für Kinder: Im Fünftonraum. Vol. 1. Sing...</td>\n",
       "      <td>https://images-na.ssl-images-amazon.com/images...</td>\n",
       "      <td>€22.00</td>\n",
       "      <td>Product details Publisher : SCHOTT MUSIC GmbH ...</td>\n",
       "    </tr>\n",
       "    <tr>\n",
       "      <th>10</th>\n",
       "      <td>Schulwerk vol. 1 (ted.) (orff/keetman) Partiti...</td>\n",
       "      <td>https://images-na.ssl-images-amazon.com/images...</td>\n",
       "      <td>à partir de 7,86 €</td>\n",
       "      <td>Détails sur le produit Éditeur : SCHOTT (1 jan...</td>\n",
       "    </tr>\n",
       "    <tr>\n",
       "      <th>11</th>\n",
       "      <td>5 antike Oden: nach Gedichten von Sappho. op. ...</td>\n",
       "      <td>https://images-na.ssl-images-amazon.com/images...</td>\n",
       "      <td>from €32.00</td>\n",
       "      <td>Product details Publisher : SCHOTT MUSIC GmbH ...</td>\n",
       "    </tr>\n",
       "    <tr>\n",
       "      <th>12</th>\n",
       "      <td>Funf antike oden op. 57 -ensemble de partition...</td>\n",
       "      <td>https://images-na.ssl-images-amazon.com/images...</td>\n",
       "      <td>à partir de 41,45 €</td>\n",
       "      <td>Détails sur le produit Éditeur : SCHOTT (1 jan...</td>\n",
       "    </tr>\n",
       "  </tbody>\n",
       "</table>\n",
       "</div>"
      ],
      "text/plain": [
       "                                         PRODUCT NAME  \\\n",
       "0   Old Spice Shaving Cream - 70 g (original) - Pa...   \n",
       "1   Short Story: Violoncello und Klavier. (Cello-B...   \n",
       "2   Short story (dushkin/hegyi) violon Partition –...   \n",
       "3   Concerto grosso g-Moll: Weihnachtskonzert. op....   \n",
       "4   Concerto grosso 8 g opus 6 partitu Partition –...   \n",
       "5   Concertino B-Dur: Violine und Orchester. Klavi...   \n",
       "6    Concertino bes violon Partition – 1 janvier 2000   \n",
       "7   Concerto in E flat \"Dumbarton Oaks\": für Kamme...   \n",
       "8   Concert es kammerorchester parti musique d'ens...   \n",
       "9   Musik für Kinder: Im Fünftonraum. Vol. 1. Sing...   \n",
       "10  Schulwerk vol. 1 (ted.) (orff/keetman) Partiti...   \n",
       "11  5 antike Oden: nach Gedichten von Sappho. op. ...   \n",
       "12  Funf antike oden op. 57 -ensemble de partition...   \n",
       "\n",
       "                                            IMAGE URL                PRICE  \\\n",
       "0   https://m.media-amazon.com/images/I/41xHbjdSXJ...                €8.00   \n",
       "1   https://images-na.ssl-images-amazon.com/images...               €11.50   \n",
       "2   https://images-na.ssl-images-amazon.com/images...  à partir de 23,72 €   \n",
       "3   https://images-na.ssl-images-amazon.com/images...               €11.88   \n",
       "4   https://images-na.ssl-images-amazon.com/images...  à partir de 11,89 €   \n",
       "5   https://images-na.ssl-images-amazon.com/images...               €12.65   \n",
       "6   https://images-na.ssl-images-amazon.com/images...  à partir de 13,37 €   \n",
       "7   https://images-na.ssl-images-amazon.com/images...               €18.00   \n",
       "8   https://images-na.ssl-images-amazon.com/images...              27,08 €   \n",
       "9   https://images-na.ssl-images-amazon.com/images...               €22.00   \n",
       "10  https://images-na.ssl-images-amazon.com/images...   à partir de 7,86 €   \n",
       "11  https://images-na.ssl-images-amazon.com/images...          from €32.00   \n",
       "12  https://images-na.ssl-images-amazon.com/images...  à partir de 41,45 €   \n",
       "\n",
       "                                       PRODUCT DETAIL  \n",
       "0   Brand Old Spice, Scent Rasur, Item weight 0.15...  \n",
       "1   Product details Publisher : SCHOTT MUSIC GmbH ...  \n",
       "2   Détails sur le produit Éditeur : SCHOTT (1 jan...  \n",
       "3   Product details Publisher : SCHOTT MUSIC GmbH ...  \n",
       "4   Détails sur le produit Éditeur : SCHOTT (1 jan...  \n",
       "5   Product details Publisher : SCHOTT MUSIC GmbH ...  \n",
       "6   Détails sur le produit Éditeur : SCHOTT (1 jan...  \n",
       "7   Product details Publisher : SCHOTT MUSIC GmbH ...  \n",
       "8   Détails sur le produit Éditeur : SCHOTT (1 jan...  \n",
       "9   Product details Publisher : SCHOTT MUSIC GmbH ...  \n",
       "10  Détails sur le produit Éditeur : SCHOTT (1 jan...  \n",
       "11  Product details Publisher : SCHOTT MUSIC GmbH ...  \n",
       "12  Détails sur le produit Éditeur : SCHOTT (1 jan...  "
      ]
     },
     "execution_count": 626,
     "metadata": {},
     "output_type": "execute_result"
    }
   ],
   "source": [
    "# Make data frame of products from amazon.com\n",
    "Product = pd.DataFrame({})\n",
    "Product['PRODUCT NAME']= Product_name\n",
    "Product['IMAGE URL'] = Image_url\n",
    "Product['PRICE'] = Price \n",
    "Product['PRODUCT DETAIL'] = Product_detail \n",
    "Product"
   ]
  },
  {
   "cell_type": "code",
   "execution_count": 628,
   "metadata": {},
   "outputs": [
    {
     "data": {
      "text/plain": [
       "'{\"PRODUCT NAME\":{\"0\":\"Old Spice Shaving Cream - 70 g (original) - Pack of 2\",\"1\":\"Short Story: Violoncello und Klavier. (Cello-Bibliothek) Sheet music \\\\u2013 6 Feb. 1986\",\"2\":\"Short story (dushkin\\\\/hegyi) violon Partition \\\\u2013 1 janvier 2000\",\"3\":\"Concerto grosso g-Moll: Weihnachtskonzert. op. 6\\\\/8. 2 Violinen, Violoncello, Streichorchester und Cembalo. Partitur. (Concertino) Sheet music \\\\u2013 24 Feb. 1984\",\"4\":\"Concerto grosso 8 g opus 6 partitu Partition \\\\u2013 1 janvier 2000\",\"5\":\"Concertino B-Dur: Violine und Orchester. Klavierauszug mit Solostimme. (Edition Schott) Sheet music \\\\u2013 18 Jan. 1980\",\"6\":\"Concertino bes violon Partition \\\\u2013 1 janvier 2000\",\"7\":\"Concerto in E flat \\\\\"Dumbarton Oaks\\\\\": f\\\\u00fcr Kammerorchester. Kammerorchester. Studienpartitur. (Musik unserer Zeit) Sheet music \\\\u2013 19 July 1984\",\"8\":\"Concert es kammerorchester parti musique d\\'ensemble Partition \\\\u2013 1 janvier 2000\",\"9\":\"Musik f\\\\u00fcr Kinder: Im F\\\\u00fcnftonraum. Vol. 1. Singstimme, Blockfl\\\\u00f6te und Schlagzeug. Sing- und Spielpartitur. (Orff-Schulwerk) Sheet music \\\\u2013 21 April 1980\",\"10\":\"Schulwerk vol. 1 (ted.) (orff\\\\/keetman) Partition \\\\u2013 1 janvier 2000\",\"11\":\"5 antike Oden: nach Gedichten von Sappho. op. 57. mittlere Frauenstimme, Viola und Klavier. mittel. Stimmensatz. (Edition Schott) Sheet music \\\\u2013 7 May 1985\",\"12\":\"Funf antike oden op. 57 -ensemble de partitions Partition \\\\u2013 1 janvier 1985\"},\"IMAGE URL\":{\"0\":\"https:\\\\/\\\\/m.media-amazon.com\\\\/images\\\\/I\\\\/41xHbjdSXJL._SX355_PIbundle-2,TopRight,0,0_SX355SY222SH20_.jpg\",\"1\":\"https:\\\\/\\\\/images-na.ssl-images-amazon.com\\\\/images\\\\/I\\\\/41zw0783tpL._SX380_BO1,204,203,200_.jpg\",\"2\":\"https:\\\\/\\\\/images-na.ssl-images-amazon.com\\\\/images\\\\/I\\\\/41zw0783tpL._SX380_BO1,204,203,200_.jpg\",\"3\":\"https:\\\\/\\\\/images-na.ssl-images-amazon.com\\\\/images\\\\/I\\\\/51sNFyf2t6L._SX378_BO1,204,203,200_.jpg\",\"4\":\"https:\\\\/\\\\/images-na.ssl-images-amazon.com\\\\/images\\\\/I\\\\/51sNFyf2t6L._SX378_BO1,204,203,200_.jpg\",\"5\":\"https:\\\\/\\\\/images-na.ssl-images-amazon.com\\\\/images\\\\/I\\\\/41HnYQBk7PL._SX379_BO1,204,203,200_.jpg\",\"6\":\"https:\\\\/\\\\/images-na.ssl-images-amazon.com\\\\/images\\\\/I\\\\/41HnYQBk7PL._SX379_BO1,204,203,200_.jpg\",\"7\":\"https:\\\\/\\\\/images-na.ssl-images-amazon.com\\\\/images\\\\/I\\\\/41fgZjPnmCL._SX351_BO1,204,203,200_.jpg\",\"8\":\"https:\\\\/\\\\/images-na.ssl-images-amazon.com\\\\/images\\\\/I\\\\/41fgZjPnmCL._SX351_BO1,204,203,200_.jpg\",\"9\":\"https:\\\\/\\\\/images-na.ssl-images-amazon.com\\\\/images\\\\/I\\\\/419-3yqvVML._SY332_BO1,204,203,200_.jpg\",\"10\":\"https:\\\\/\\\\/images-na.ssl-images-amazon.com\\\\/images\\\\/I\\\\/419-3yqvVML._SY332_BO1,204,203,200_.jpg\",\"11\":\"https:\\\\/\\\\/images-na.ssl-images-amazon.com\\\\/images\\\\/I\\\\/41uGG66YO-L._SX379_BO1,204,203,200_.jpg\",\"12\":\"https:\\\\/\\\\/images-na.ssl-images-amazon.com\\\\/images\\\\/I\\\\/41uGG66YO-L._SX379_BO1,204,203,200_.jpg\"},\"PRICE\":{\"0\":\"\\\\u20ac8.00\",\"1\":\"\\\\u20ac11.50\",\"2\":\"\\\\u00e0 partir de 23,72 \\\\u20ac\",\"3\":\"\\\\u20ac11.88\",\"4\":\"\\\\u00e0 partir de 11,89 \\\\u20ac\",\"5\":\"\\\\u20ac12.65\",\"6\":\"\\\\u00e0 partir de 13,37 \\\\u20ac\",\"7\":\"\\\\u20ac18.00\",\"8\":\"27,08 \\\\u20ac\",\"9\":\"\\\\u20ac22.00\",\"10\":\"\\\\u00e0 partir de 7,86 \\\\u20ac\",\"11\":\"from \\\\u20ac32.00\",\"12\":\"\\\\u00e0 partir de 41,45 \\\\u20ac\"},\"PRODUCT DETAIL\":{\"0\":\"Brand Old Spice, Scent Rasur, Item weight 0.15 Pounds, Item form Creme,Schaum\",\"1\":\"Product details Publisher : SCHOTT MUSIC GmbH & Co KG, Mainz (6 Feb. 1986) Language : French Sheet music : 10 pages ISBN-10 : 000101742X ISBN-13 : 978-0001017429\",\"2\":\"D\\\\u00e9tails sur le produit \\\\u00c9diteur : SCHOTT (1 janvier 2000) Langue : Fran\\\\u00e7ais ISBN-10 : 000101742X ISBN-13 : 978-0001017429 Poids de l\\'article : 601 g\",\"3\":\"Product details Publisher : SCHOTT MUSIC GmbH & Co KG, Mainz (24 Feb. 1984) Language : French Sheet music : 30 pages ISBN-10 : 000102163X ISBN-13 : 978-0001021631 Best Sellers Rank: 2,614,782 in Books (See Top 100 in Books) 4,300 in Strings Songbooks 6,062 in Piano & Keyboards Songbooks 25,281 in Piano, Vocal & Guitar Songbooks\",\"4\":\"D\\\\u00e9tails sur le produit \\\\u00c9diteur : SCHOTT (1 janvier 2000) Langue : Fran\\\\u00e7ais ISBN-10 : 000102163X ISBN-13 : 978-0001021631 Poids de l\\'article : 358 g\",\"5\":\"Product details Publisher : SCHOTT MUSIC GmbH & Co KG, Mainz (18 Jan. 1980) Language : French Sheet music : 28 pages ISBN-10 : 000103863X ISBN-13 : 979-0001038638 Best Sellers Rank: 5,210,633 in Books (See Top 100 in Books) 6,968 in Strings Songbooks 43,854 in Piano, Vocal & Guitar Songbooks 3,653,224 in Foreign Language Books\",\"6\":\"D\\\\u00e9tails sur le produit \\\\u00c9diteur : SCHOTT (1 janvier 2000) Langue : Fran\\\\u00e7ais ISBN-10 : 000103863X ISBN-13 : 979-0001038638 Poids de l\\'article : 701 g\",\"7\":\"Product details Publisher : SCHOTT MUSIC GmbH & Co KG, Mainz; Das exakte Erscheinungsdatum ist leider unbekannt edition (19 July 1984) Language : French Sheet music : 44 pages ISBN-10 : 000104317X ISBN-13 : 978-0001043176 Best Sellers Rank: 1,831,715 in Books (See Top 100 in Books) 17,310 in Piano, Vocal & Guitar Songbooks 994,798 in Foreign Language Books\",\"8\":\"D\\\\u00e9tails sur le produit \\\\u00c9diteur : SCHOTT (1 janvier 2000) Langue : Fran\\\\u00e7ais ISBN-10 : 000104317X ISBN-13 : 978-0001043176 Poids de l\\'article : 601 g Classement des meilleures ventes d\\'Amazon : 1,906,093 en Livres (Voir les 100 premiers en Livres) 1,787 en Partitions musicales pour l\\'orchestre et groupes\",\"9\":\"Product details Publisher : SCHOTT MUSIC GmbH & Co KG, Mainz (21 April 1980) Language : German Sheet music : 187 pages ISBN-10 : 000104348X ISBN-13 : 978-0001043480 Best Sellers Rank: 1,337,558 in Books (See Top 100 in Books) 399 in Percussion Songbooks 1,591 in Vocal Songbooks 12,033 in Piano, Vocal & Guitar Songbooks Customer reviews: 1 rating\",\"10\":\"D\\\\u00e9tails sur le produit \\\\u00c9diteur : SCHOTT (1 janvier 2000) Langue : Allemand ISBN-10 : 000104348X ISBN-13 : 978-0001043480 Poids de l\\'article : 701 g Commentaires client : 1 \\\\u00e9valuation\",\"11\":\"Product details Publisher : SCHOTT MUSIC GmbH & Co KG, Mainz (7 May 1985) Language : German Sheet music : 32 pages ISBN-10 : 000104396X ISBN-13 : 978-0001043961\",\"12\":\"D\\\\u00e9tails sur le produit \\\\u00c9diteur : SCHOTT (1 janvier 1985) Langue : Allemand ISBN-10 : 000104396X ISBN-13 : 978-0001043961 Poids de l\\'article : 1 kg\"}}'"
      ]
     },
     "execution_count": 628,
     "metadata": {},
     "output_type": "execute_result"
    }
   ],
   "source": [
    "Product.to_json()"
   ]
  },
  {
   "cell_type": "code",
   "execution_count": null,
   "metadata": {},
   "outputs": [],
   "source": []
  },
  {
   "cell_type": "code",
   "execution_count": null,
   "metadata": {},
   "outputs": [],
   "source": []
  },
  {
   "cell_type": "code",
   "execution_count": null,
   "metadata": {},
   "outputs": [],
   "source": []
  },
  {
   "cell_type": "code",
   "execution_count": null,
   "metadata": {},
   "outputs": [],
   "source": []
  },
  {
   "cell_type": "code",
   "execution_count": null,
   "metadata": {},
   "outputs": [],
   "source": []
  },
  {
   "cell_type": "code",
   "execution_count": null,
   "metadata": {},
   "outputs": [],
   "source": []
  },
  {
   "cell_type": "code",
   "execution_count": null,
   "metadata": {},
   "outputs": [],
   "source": []
  },
  {
   "cell_type": "code",
   "execution_count": null,
   "metadata": {},
   "outputs": [],
   "source": []
  },
  {
   "cell_type": "code",
   "execution_count": null,
   "metadata": {},
   "outputs": [],
   "source": []
  }
 ],
 "metadata": {
  "kernelspec": {
   "display_name": "Python 3",
   "language": "python",
   "name": "python3"
  },
  "language_info": {
   "codemirror_mode": {
    "name": "ipython",
    "version": 3
   },
   "file_extension": ".py",
   "mimetype": "text/x-python",
   "name": "python",
   "nbconvert_exporter": "python",
   "pygments_lexer": "ipython3",
   "version": "3.8.5"
  }
 },
 "nbformat": 4,
 "nbformat_minor": 4
}
